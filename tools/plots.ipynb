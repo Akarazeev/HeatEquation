{
 "cells": [
  {
   "cell_type": "code",
   "execution_count": 1,
   "metadata": {
    "collapsed": true
   },
   "outputs": [],
   "source": [
    "import pandas as pd\n",
    "import numpy as np\n",
    "import matplotlib.pyplot as plt\n",
    "%matplotlib inline"
   ]
  },
  {
   "cell_type": "code",
   "execution_count": 2,
   "metadata": {
    "collapsed": false
   },
   "outputs": [],
   "source": [
    "# grid = np.random.rand(10,10)\n",
    "# plt.matshow(grid)\n",
    "# plt.show()"
   ]
  },
  {
   "cell_type": "code",
   "execution_count": 3,
   "metadata": {
    "collapsed": false,
    "scrolled": true
   },
   "outputs": [],
   "source": [
    "# grid = np.random.rand(10,10)\n",
    "# plt.imshow(grid)\n",
    "# grid = np.random.rand(10,10)\n",
    "# plt.imshow(grid)\n",
    "# grid = np.random.rand(10,10)\n",
    "# plt.imshow(grid)\n",
    "\n",
    "# grid = np.random.rand(100,100)\n",
    "# plt.imshow(grid, filternorm=0.1, filterrad=50.0, )\n",
    "# plt.show()"
   ]
  },
  {
   "cell_type": "code",
   "execution_count": 4,
   "metadata": {
    "collapsed": false,
    "scrolled": true
   },
   "outputs": [],
   "source": [
    "# import numpy as np\n",
    "# import matplotlib.pyplot as plt\n",
    "# import matplotlib.animation as animation\n",
    "\n",
    "# fig = plt.figure()\n",
    "\n",
    "\n",
    "# def f(x, y):\n",
    "#     return np.sin(x) + np.cos(y)\n",
    "\n",
    "# x = np.linspace(0, 2 * np.pi, 120)\n",
    "# y = np.linspace(0, 2 * np.pi, 100).reshape(-1, 1)\n",
    "\n",
    "# im = plt.imshow(f(x, y), cmap=plt.get_cmap('viridis'), animated=True)\n",
    "\n",
    "\n",
    "# def updatefig(*args):\n",
    "#     global x, y\n",
    "#     x += 2 * np.pi\n",
    "#     y += np.pi\n",
    "#     im.set_array(f(x, y))\n",
    "#     return im,\n",
    "\n",
    "# ani = animation.FuncAnimation(fig, updatefig, interval=10, blit=True)\n",
    "# plt.show()"
   ]
  },
  {
   "cell_type": "code",
   "execution_count": 5,
   "metadata": {
    "collapsed": false,
    "scrolled": true
   },
   "outputs": [],
   "source": [
    "# NEED!!\n",
    "\n",
    "# import os\n",
    "# path = \"dump_files/\"\n",
    "\n",
    "# plt.figure(figsize=(17,17))\n",
    "# for (i,fname),sbp in zip(enumerate(os.listdir(path)), range(221,225)):\n",
    "#     if i == 11:\n",
    "#         break\n",
    "# #     print fname\n",
    "#     with open(path + fname, 'r') as f:\n",
    "#         size, iteration, grid = [line for line in f]\n",
    "#         size = int(size)\n",
    "#         iteration = int(iteration)\n",
    "#         grid = np.array([float(x) for x in grid.split()])\n",
    "        \n",
    "#         plt.subplot(sbp)\n",
    "#         plt.subplots_adjust(wspace=0, hspace=0)\n",
    "# #         plt.axis('off')\n",
    "# #         plt.imshow(grid.reshape(size, size))\n",
    "#         plt.matshow(grid.reshape(size, size), fignum=False)\n",
    "#         if sbp in [223]:\n",
    "#             plt.yticks(fontsize=20)\n",
    "#             plt.xticks([])\n",
    "#         elif sbp in [222]:\n",
    "#             plt.xticks(fontsize=20)\n",
    "#             plt.yticks([])\n",
    "#         elif sbp == 221:\n",
    "#             plt.yticks(fontsize=20)\n",
    "#             plt.xticks(fontsize=20)\n",
    "#         else:\n",
    "#             plt.axis('off')\n",
    "# plt.show()"
   ]
  },
  {
   "cell_type": "code",
   "execution_count": 6,
   "metadata": {
    "collapsed": false
   },
   "outputs": [],
   "source": [
    "# NEED!!\n",
    "\n",
    "# import os\n",
    "# import matplotlib.image as mpimg\n",
    "\n",
    "# img = mpimg.imread('hnu.jpg')\n",
    "\n",
    "# imgplot = plt.imshow(img)"
   ]
  },
  {
   "cell_type": "code",
   "execution_count": 7,
   "metadata": {
    "collapsed": false
   },
   "outputs": [],
   "source": [
    "# NEED!!\n",
    "\n",
    "# img_new = np.zeros((len(img), len(img)))\n",
    "\n",
    "# for x in range(len(img)):\n",
    "#     for y in range(len(img)):\n",
    "#         if all(i == 255 for i in img[x,y]):\n",
    "#             img_new[x,y] = 0\n",
    "#         else:\n",
    "#             img_new[x,y] = 100"
   ]
  },
  {
   "cell_type": "code",
   "execution_count": 8,
   "metadata": {
    "collapsed": false
   },
   "outputs": [],
   "source": [
    "# NEED!!\n",
    "\n",
    "# with open('hnu.txt', 'w') as f:\n",
    "#     f.write(str(len(img)) + '\\n')\n",
    "#     for x in img_new:\n",
    "# #         print x\n",
    "#         f.write(' '.join(map(str,map(int,x))))\n",
    "#         f.write('\\n')"
   ]
  },
  {
   "cell_type": "code",
   "execution_count": 9,
   "metadata": {
    "collapsed": false
   },
   "outputs": [],
   "source": [
    "# NEED!!\n",
    "\n",
    "# import os\n",
    "# import pandas as pd\n",
    "# import numpy as np\n",
    "# import matplotlib.pyplot as plt\n",
    "# path = \"dump_files/\"\n",
    "\n",
    "# # plt.figure(figsize=(5,5))\n",
    "# for fname in os.listdir(path):\n",
    "#     with open(path + fname, 'r') as f:\n",
    "#         size, iteration, grid = [line for line in f]\n",
    "#         size = int(size)\n",
    "#         iteration = int(iteration)\n",
    "#         grid = np.array([float(x) for x in grid.split()])\n",
    "        \n",
    "# #         plt.axis('off')\n",
    "#         plt.figure(frameon=False)\n",
    "#         plt.imshow(grid.reshape(size, size))\n",
    "#         plt.savefig('images/' + fname + '.jpg', transparent=True, bbox_inches='tight', pad_inches=0)\n",
    "#         plt.show()"
   ]
  }
 ],
 "metadata": {
  "kernelspec": {
   "display_name": "Python 2",
   "language": "python",
   "name": "python2"
  },
  "language_info": {
   "codemirror_mode": {
    "name": "ipython",
    "version": 2
   },
   "file_extension": ".py",
   "mimetype": "text/x-python",
   "name": "python",
   "nbconvert_exporter": "python",
   "pygments_lexer": "ipython2",
   "version": "2.7.12"
  }
 },
 "nbformat": 4,
 "nbformat_minor": 0
}
