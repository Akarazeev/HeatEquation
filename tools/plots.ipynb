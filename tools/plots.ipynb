{
 "cells": [
  {
   "cell_type": "code",
   "execution_count": 1,
   "metadata": {
    "collapsed": true
   },
   "outputs": [],
   "source": [
    "import pandas as pd\n",
    "import numpy as np\n",
    "import matplotlib.pyplot as plt\n",
    "%matplotlib inline"
   ]
  },
  {
   "cell_type": "code",
   "execution_count": 5,
   "metadata": {
    "collapsed": false,
    "scrolled": true
   },
   "outputs": [],
   "source": [
    "# grid = np.random.rand(100,100)\n",
    "# plt.imshow(grid, filternorm=0.1, filterrad=50.0, )\n",
    "# plt.show()"
   ]
  },
  {
   "cell_type": "code",
   "execution_count": 5,
   "metadata": {
    "collapsed": false,
    "scrolled": true
   },
   "outputs": [],
   "source": [
    "# NEED!!\n",
    "\n",
    "# import os\n",
    "# path = \"dump_files/\"\n",
    "\n",
    "# plt.figure(figsize=(17,17))\n",
    "# for (i,fname),sbp in zip(enumerate(os.listdir(path)), range(221,225)):\n",
    "#     if i == 11:\n",
    "#         break\n",
    "# #     print fname\n",
    "#     with open(path + fname, 'r') as f:\n",
    "#         size, iteration, grid = [line for line in f]\n",
    "#         size = int(size)\n",
    "#         iteration = int(iteration)\n",
    "#         grid = np.array([float(x) for x in grid.split()])\n",
    "        \n",
    "#         plt.subplot(sbp)\n",
    "#         plt.subplots_adjust(wspace=0, hspace=0)\n",
    "# #         plt.axis('off')\n",
    "# #         plt.imshow(grid.reshape(size, size))\n",
    "#         plt.matshow(grid.reshape(size, size), fignum=False)\n",
    "#         if sbp in [223]:\n",
    "#             plt.yticks(fontsize=20)\n",
    "#             plt.xticks([])\n",
    "#         elif sbp in [222]:\n",
    "#             plt.xticks(fontsize=20)\n",
    "#             plt.yticks([])\n",
    "#         elif sbp == 221:\n",
    "#             plt.yticks(fontsize=20)\n",
    "#             plt.xticks(fontsize=20)\n",
    "#         else:\n",
    "#             plt.axis('off')\n",
    "# plt.show()"
   ]
  },
  {
   "cell_type": "code",
   "execution_count": 1,
   "metadata": {
    "collapsed": false,
    "scrolled": true
   },
   "outputs": [],
   "source": [
    "# NEED!!\n",
    "\n",
    "# import os\n",
    "# import matplotlib.image as mpimg\n",
    "\n",
    "# img = mpimg.imread('../res/2016f.jpg')\n",
    "\n",
    "# imgplot = plt.imshow(img)"
   ]
  },
  {
   "cell_type": "code",
   "execution_count": 2,
   "metadata": {
    "collapsed": false
   },
   "outputs": [],
   "source": [
    "# img.shape"
   ]
  },
  {
   "cell_type": "code",
   "execution_count": 3,
   "metadata": {
    "collapsed": false
   },
   "outputs": [],
   "source": [
    "# NEED!!\n",
    "\n",
    "# img_new = np.zeros((img.shape[0], img.shape[1]))\n",
    "\n",
    "# for x in range(img.shape[0]):\n",
    "#     for y in range(img.shape[1]):\n",
    "#         if all(i <= 50 for i in img[x,y]):\n",
    "#             img_new[x,y] = 0\n",
    "#         else:\n",
    "#             img_new[x,y] = 100\n",
    "            \n",
    "# imgplot = plt.imshow(img_new)"
   ]
  },
  {
   "cell_type": "code",
   "execution_count": 4,
   "metadata": {
    "collapsed": false
   },
   "outputs": [],
   "source": [
    "# NEED!!\n",
    "\n",
    "# with open('../res/2016.txt', 'w') as f:\n",
    "#     f.write(str(img.shape[0]) + ' ' + str(img.shape[1]) + '\\n')\n",
    "#     for x in img_new:\n",
    "# #         print x\n",
    "#         f.write(' '.join(map(str,map(int,x))))\n",
    "#         f.write('\\n')"
   ]
  },
  {
   "cell_type": "code",
   "execution_count": 19,
   "metadata": {
    "collapsed": false
   },
   "outputs": [],
   "source": [
    "# NEED THIS CODE\n",
    "\n",
    "# import os\n",
    "# import pandas as pd\n",
    "# import numpy as np\n",
    "# import matplotlib.pyplot as plt\n",
    "# path = \"dump_files/\"\n",
    "\n",
    "# # plt.figure(figsize=(5,5))\n",
    "# for fname in os.listdir(path):\n",
    "#     with open(path + fname, 'r') as f:\n",
    "#         size, iteration, grid = [line for line in f]\n",
    "#         size = int(size)\n",
    "#         iteration = int(iteration)\n",
    "#         grid = np.array([float(x) for x in grid.split()])\n",
    "        \n",
    "# #         plt.axis('off')\n",
    "#         plt.figure(frameon=False)\n",
    "#         plt.imshow(grid.reshape(size, size))\n",
    "#         plt.savefig('images/' + fname + '.jpg', transparent=True, bbox_inches='tight', pad_inches=0)\n",
    "#         plt.show()"
   ]
  }
 ],
 "metadata": {
  "kernelspec": {
   "display_name": "Python 2",
   "language": "python",
   "name": "python2"
  },
  "language_info": {
   "codemirror_mode": {
    "name": "ipython",
    "version": 2
   },
   "file_extension": ".py",
   "mimetype": "text/x-python",
   "name": "python",
   "nbconvert_exporter": "python",
   "pygments_lexer": "ipython2",
   "version": "2.7.12"
  }
 },
 "nbformat": 4,
 "nbformat_minor": 0
}
